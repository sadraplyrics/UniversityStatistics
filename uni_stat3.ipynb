{
 "cells": [
  {
   "cell_type": "code",
   "execution_count": 300,
   "metadata": {},
   "outputs": [],
   "source": [
    "# Подключаем библиотеки\n",
    "import pandas as pd\n",
    "import matplotlib.pyplot as plt\n",
    "import numpy as np\n",
    "import seaborn as sns\n",
    "import tabula as tb\n",
    "from scipy import stats\n",
    "plt.rcParams['figure.figsize']=(10,5)"
   ]
  },
  {
   "cell_type": "code",
   "execution_count": 301,
   "metadata": {},
   "outputs": [
    {
     "name": "stderr",
     "output_type": "stream",
     "text": [
      "Got stderr: Dec 21, 2021 7:28:49 AM org.apache.pdfbox.pdmodel.font.PDTrueTypeFont <init>\n",
      "WARNING: Using fallback font 'LiberationSans-Bold' for 'TimesNewRomanPS-BoldMT'\n",
      "Dec 21, 2021 7:28:49 AM org.apache.pdfbox.pdmodel.font.PDTrueTypeFont <init>\n",
      "WARNING: Using fallback font 'LiberationSans' for 'TimesNewRomanPSMT'\n",
      "Dec 21, 2021 7:28:50 AM org.apache.pdfbox.pdmodel.font.PDTrueTypeFont <init>\n",
      "WARNING: Using fallback font 'LiberationSans-Bold' for 'TimesNewRomanPS-BoldMT'\n",
      "Dec 21, 2021 7:28:50 AM org.apache.pdfbox.pdmodel.font.PDTrueTypeFont <init>\n",
      "WARNING: Using fallback font 'LiberationSans' for 'TimesNewRomanPSMT'\n",
      "Dec 21, 2021 7:28:50 AM org.apache.pdfbox.pdmodel.font.PDTrueTypeFont <init>\n",
      "WARNING: Using fallback font 'LiberationSans' for 'TimesNewRomanPSMT'\n",
      "Dec 21, 2021 7:28:50 AM org.apache.pdfbox.pdmodel.font.PDTrueTypeFont <init>\n",
      "WARNING: Using fallback font 'LiberationSans-Bold' for 'TimesNewRomanPS-BoldMT'\n",
      "Dec 21, 2021 7:28:50 AM org.apache.pdfbox.pdmodel.font.PDTrueTypeFont <init>\n",
      "WARNING: Using fallback font 'LiberationSans' for 'TimesNewRomanPSMT'\n",
      "\n"
     ]
    }
   ],
   "source": [
    "# Считаем все таблицы \n",
    "all_tabs_array = tb.read_pdf(\"tasks/Практика 22 ноября 2021.pdf\", pages=\"all\") "
   ]
  },
  {
   "cell_type": "code",
   "execution_count": 302,
   "metadata": {},
   "outputs": [
    {
     "data": {
      "text/plain": [
       "9"
      ]
     },
     "execution_count": 302,
     "metadata": {},
     "output_type": "execute_result"
    }
   ],
   "source": [
    "len(all_tabs_array)"
   ]
  },
  {
   "cell_type": "markdown",
   "metadata": {},
   "source": [
    "# ЗАДАЧА_1\n",
    "Есть распространённое мнение, что дочери обычно больше похожи\n",
    "на отцов, а сыновья – на матерей. Для проверки этого утверждения провели\n",
    "исследование и составили следующую таблицу сопряженности:"
   ]
  },
  {
   "cell_type": "code",
   "execution_count": 303,
   "metadata": {},
   "outputs": [],
   "source": [
    "# Уберем из нашей таблицы все лишнее и преобразуем нужные типы данных\n",
    "# N0 - никакой связи нет\n",
    "# N1 - связь есть\n",
    "task_1 = pd.DataFrame(all_tabs_array[0])"
   ]
  },
  {
   "cell_type": "code",
   "execution_count": 304,
   "metadata": {},
   "outputs": [],
   "source": [
    "task_1 = task_1.dropna(how=\"any\")"
   ]
  },
  {
   "cell_type": "code",
   "execution_count": 305,
   "metadata": {},
   "outputs": [],
   "source": [
    "task_1 = task_1.rename(columns={\"Unnamed: 0\": \"gender\",\"Ребенок больше похож на:\": \"alike\"})"
   ]
  },
  {
   "cell_type": "code",
   "execution_count": 306,
   "metadata": {},
   "outputs": [],
   "source": [
    "task_1 = task_1.join(task_1[\"alike\"].str.split(expand=True)).drop(\"alike\", axis=1)"
   ]
  },
  {
   "cell_type": "code",
   "execution_count": 307,
   "metadata": {},
   "outputs": [],
   "source": [
    "task_1.columns = [\"gender\", \"father\", \"mother\"]"
   ]
  },
  {
   "cell_type": "code",
   "execution_count": 308,
   "metadata": {},
   "outputs": [],
   "source": [
    "task_1[[\"father\", \"mother\"]] = task_1[[\"father\", \"mother\"]].applymap(int)"
   ]
  },
  {
   "cell_type": "code",
   "execution_count": 309,
   "metadata": {},
   "outputs": [
    {
     "data": {
      "text/html": [
       "<div>\n",
       "<style scoped>\n",
       "    .dataframe tbody tr th:only-of-type {\n",
       "        vertical-align: middle;\n",
       "    }\n",
       "\n",
       "    .dataframe tbody tr th {\n",
       "        vertical-align: top;\n",
       "    }\n",
       "\n",
       "    .dataframe thead th {\n",
       "        text-align: right;\n",
       "    }\n",
       "</style>\n",
       "<table border=\"1\" class=\"dataframe\">\n",
       "  <thead>\n",
       "    <tr style=\"text-align: right;\">\n",
       "      <th></th>\n",
       "      <th>father</th>\n",
       "      <th>mother</th>\n",
       "    </tr>\n",
       "    <tr>\n",
       "      <th>gender</th>\n",
       "      <th></th>\n",
       "      <th></th>\n",
       "    </tr>\n",
       "  </thead>\n",
       "  <tbody>\n",
       "    <tr>\n",
       "      <th>Мальчик</th>\n",
       "      <td>25</td>\n",
       "      <td>22</td>\n",
       "    </tr>\n",
       "    <tr>\n",
       "      <th>Девочка</th>\n",
       "      <td>19</td>\n",
       "      <td>17</td>\n",
       "    </tr>\n",
       "  </tbody>\n",
       "</table>\n",
       "</div>"
      ],
      "text/plain": [
       "         father  mother\n",
       "gender                 \n",
       "Мальчик      25      22\n",
       "Девочка      19      17"
      ]
     },
     "execution_count": 309,
     "metadata": {},
     "output_type": "execute_result"
    }
   ],
   "source": [
    "task_1.set_index(task_1[\"gender\"]).drop(\"gender\", axis=1)"
   ]
  },
  {
   "cell_type": "code",
   "execution_count": 310,
   "metadata": {},
   "outputs": [],
   "source": [
    "chi2, p, dof, expected = stats.chi2_contingency(task_1[[\"father\", \"mother\"]])"
   ]
  },
  {
   "cell_type": "code",
   "execution_count": 311,
   "metadata": {},
   "outputs": [
    {
     "name": "stdout",
     "output_type": "stream",
     "text": [
      "Chi-Squared: 0.0\n",
      "DoF: 1\n",
      "P-value: 1.0\n"
     ]
    }
   ],
   "source": [
    "print(f\"Chi-Squared: {chi2}\\nDoF: {dof}\\nP-value: {p}\")"
   ]
  },
  {
   "cell_type": "code",
   "execution_count": 312,
   "metadata": {},
   "outputs": [],
   "source": [
    "# Мы не наблюдали статистически значимых отличий от ожидаемых значений, по этой причине мы не можем \n",
    "# Отказаться он нулевой гипотезы"
   ]
  },
  {
   "cell_type": "markdown",
   "metadata": {},
   "source": [
    "# ЗАДАЧА_2\n",
    "Два вуза готовят специалистов сходных специальностей.\n",
    "Руководители этих вузов решили выяснить, можно ли считать примерно\n",
    "одинаковым качество подготовки, получаемой студентами в обоих\n",
    "институтах. Критерием качества подготовки было решено считать количество\n",
    "выпускников каждого института, работающих по специальности. Был\n",
    "проведен опрос выпускников обоих вузов, по результатам которого составлена\n",
    "следующая таблица сопряженности:\n",
    "Можно ли считать качество подготовки в институтах одинаковым?"
   ]
  },
  {
   "cell_type": "code",
   "execution_count": 313,
   "metadata": {},
   "outputs": [],
   "source": [
    "# Поскольку объем данных в некоторых таблицах небольшой можно просто использовать матрицу 2х2\n",
    "# Нулевая гипотеза - разницы в качестве вузов нет\n",
    "# Альтернативная гипотеза - разницы есть\n",
    "task_2 = all_tabs_array[1]"
   ]
  },
  {
   "cell_type": "code",
   "execution_count": 314,
   "metadata": {},
   "outputs": [
    {
     "data": {
      "text/html": [
       "<div>\n",
       "<style scoped>\n",
       "    .dataframe tbody tr th:only-of-type {\n",
       "        vertical-align: middle;\n",
       "    }\n",
       "\n",
       "    .dataframe tbody tr th {\n",
       "        vertical-align: top;\n",
       "    }\n",
       "\n",
       "    .dataframe thead th {\n",
       "        text-align: right;\n",
       "    }\n",
       "</style>\n",
       "<table border=\"1\" class=\"dataframe\">\n",
       "  <thead>\n",
       "    <tr style=\"text-align: right;\">\n",
       "      <th></th>\n",
       "      <th>Unnamed: 0</th>\n",
       "      <th>Работаете ли вы по специальности:</th>\n",
       "    </tr>\n",
       "  </thead>\n",
       "  <tbody>\n",
       "    <tr>\n",
       "      <th>0</th>\n",
       "      <td>Институт</td>\n",
       "      <td>NaN</td>\n",
       "    </tr>\n",
       "    <tr>\n",
       "      <th>1</th>\n",
       "      <td>NaN</td>\n",
       "      <td>Да Нет</td>\n",
       "    </tr>\n",
       "    <tr>\n",
       "      <th>2</th>\n",
       "      <td>А</td>\n",
       "      <td>46 7</td>\n",
       "    </tr>\n",
       "    <tr>\n",
       "      <th>3</th>\n",
       "      <td>В</td>\n",
       "      <td>34 15</td>\n",
       "    </tr>\n",
       "  </tbody>\n",
       "</table>\n",
       "</div>"
      ],
      "text/plain": [
       "  Unnamed: 0 Работаете ли вы по специальности:\n",
       "0   Институт                               NaN\n",
       "1        NaN                            Да Нет\n",
       "2          А                              46 7\n",
       "3          В                             34 15"
      ]
     },
     "execution_count": 314,
     "metadata": {},
     "output_type": "execute_result"
    }
   ],
   "source": [
    "task_2"
   ]
  },
  {
   "cell_type": "code",
   "execution_count": 315,
   "metadata": {},
   "outputs": [],
   "source": [
    "task_2 = np.array([[46, 7], [34, 15]])"
   ]
  },
  {
   "cell_type": "code",
   "execution_count": 316,
   "metadata": {},
   "outputs": [],
   "source": [
    "chi2, p, dof, expected = stats.chi2_contingency(task_2)\n"
   ]
  },
  {
   "cell_type": "code",
   "execution_count": 317,
   "metadata": {},
   "outputs": [
    {
     "name": "stdout",
     "output_type": "stream",
     "text": [
      "Chi-Squared: 3.5884285189204324\n",
      "DoF: 1\n",
      "P-value: 0.05818323920233101\n"
     ]
    }
   ],
   "source": [
    "# Вероятность случайно получить такое или большее отклонение превышает альфу (в качестве альфы мы взяли 0.05)\n",
    "# В зависимоти от размера альфы мы можем решить принимать или отклонять гипотезу о различии\n",
    "# Однако, в данном случае мы вынуждены отклонить альтернативную гипотезу о различии качетсва подготовки\n",
    "# Хотя разница есть\n",
    "print(f\"Chi-Squared: {chi2}\\nDoF: {dof}\\nP-value: {p}\")"
   ]
  },
  {
   "cell_type": "markdown",
   "metadata": {},
   "source": [
    "# ЗАДАЧА_3\n",
    "В процессе разработки программы дополнительного образования\n",
    "исследовалась связь между уровнем образования и предпочитаемой\n",
    "слушателями формой подачи материала. Данные были сведены в таблицу:\n",
    "Можно ли утверждать, что сущесвует связь между переменными"
   ]
  },
  {
   "cell_type": "code",
   "execution_count": 318,
   "metadata": {},
   "outputs": [],
   "source": [
    "task_3 = all_tabs_array[2]"
   ]
  },
  {
   "cell_type": "code",
   "execution_count": 319,
   "metadata": {},
   "outputs": [
    {
     "data": {
      "text/html": [
       "<div>\n",
       "<style scoped>\n",
       "    .dataframe tbody tr th:only-of-type {\n",
       "        vertical-align: middle;\n",
       "    }\n",
       "\n",
       "    .dataframe tbody tr th {\n",
       "        vertical-align: top;\n",
       "    }\n",
       "\n",
       "    .dataframe thead th {\n",
       "        text-align: right;\n",
       "    }\n",
       "</style>\n",
       "<table border=\"1\" class=\"dataframe\">\n",
       "  <thead>\n",
       "    <tr style=\"text-align: right;\">\n",
       "      <th></th>\n",
       "      <th>Unnamed: 0</th>\n",
       "      <th>Форма подачи материала:</th>\n",
       "    </tr>\n",
       "  </thead>\n",
       "  <tbody>\n",
       "    <tr>\n",
       "      <th>0</th>\n",
       "      <td>NaN</td>\n",
       "      <td>Концентрированно, Подробно, практико-</td>\n",
       "    </tr>\n",
       "    <tr>\n",
       "      <th>1</th>\n",
       "      <td>Образование</td>\n",
       "      <td>наукообразно, текстово, ориентировано,</td>\n",
       "    </tr>\n",
       "    <tr>\n",
       "      <th>2</th>\n",
       "      <td>NaN</td>\n",
       "      <td>занятия от 20 минут и видеоролики,</td>\n",
       "    </tr>\n",
       "    <tr>\n",
       "      <th>3</th>\n",
       "      <td>NaN</td>\n",
       "      <td>более занятия до 7 минут</td>\n",
       "    </tr>\n",
       "    <tr>\n",
       "      <th>4</th>\n",
       "      <td>Среднее</td>\n",
       "      <td>12 34</td>\n",
       "    </tr>\n",
       "    <tr>\n",
       "      <th>5</th>\n",
       "      <td>Среднее</td>\n",
       "      <td>NaN</td>\n",
       "    </tr>\n",
       "    <tr>\n",
       "      <th>6</th>\n",
       "      <td>NaN</td>\n",
       "      <td>8 17</td>\n",
       "    </tr>\n",
       "    <tr>\n",
       "      <th>7</th>\n",
       "      <td>профессиональное</td>\n",
       "      <td>NaN</td>\n",
       "    </tr>\n",
       "    <tr>\n",
       "      <th>8</th>\n",
       "      <td>Высшее</td>\n",
       "      <td>23 14</td>\n",
       "    </tr>\n",
       "  </tbody>\n",
       "</table>\n",
       "</div>"
      ],
      "text/plain": [
       "         Unnamed: 0                 Форма подачи материала:\n",
       "0               NaN   Концентрированно, Подробно, практико-\n",
       "1       Образование  наукообразно, текстово, ориентировано,\n",
       "2               NaN      занятия от 20 минут и видеоролики,\n",
       "3               NaN                более занятия до 7 минут\n",
       "4           Среднее                                   12 34\n",
       "5           Среднее                                     NaN\n",
       "6               NaN                                    8 17\n",
       "7  профессиональное                                     NaN\n",
       "8            Высшее                                   23 14"
      ]
     },
     "execution_count": 319,
     "metadata": {},
     "output_type": "execute_result"
    }
   ],
   "source": [
    "task_3"
   ]
  },
  {
   "cell_type": "code",
   "execution_count": 320,
   "metadata": {},
   "outputs": [],
   "source": [
    "task_3 = np.array([[12, 34],[8, 17],[23, 14]])"
   ]
  },
  {
   "cell_type": "code",
   "execution_count": 321,
   "metadata": {},
   "outputs": [],
   "source": [
    "chi2, p, dof, expected = stats.chi2_contingency(task_3)"
   ]
  },
  {
   "cell_type": "code",
   "execution_count": 322,
   "metadata": {},
   "outputs": [
    {
     "name": "stdout",
     "output_type": "stream",
     "text": [
      "Chi-Squared: 11.965977452602326\n",
      "DoF: 2\n",
      "P-value: 0.0025212796056864324\n"
     ]
    }
   ],
   "source": [
    "# Наблюдаем значимую разницу, p-value меньше альфы\n",
    "print(f\"Chi-Squared: {chi2}\\nDoF: {dof}\\nP-value: {p}\")"
   ]
  },
  {
   "cell_type": "markdown",
   "metadata": {},
   "source": [
    "# ЗАДАЧА_4\n",
    "Принято считать, что девушки более старательно учатся, чем\n",
    "молодые люди (не врут :) ), и реже пропускают занятия. провели исследование дляпроверки наличия связи между полом и посещаемостью занятий. Полученные\n",
    "данные внесли в таблицу:\n",
    "Можно ли утверждать, что существует связь между рассматриваемыми\n",
    "переменными?"
   ]
  },
  {
   "cell_type": "code",
   "execution_count": 323,
   "metadata": {},
   "outputs": [],
   "source": [
    "task_4 = all_tabs_array[3]"
   ]
  },
  {
   "cell_type": "code",
   "execution_count": 324,
   "metadata": {},
   "outputs": [
    {
     "data": {
      "text/html": [
       "<div>\n",
       "<style scoped>\n",
       "    .dataframe tbody tr th:only-of-type {\n",
       "        vertical-align: middle;\n",
       "    }\n",
       "\n",
       "    .dataframe tbody tr th {\n",
       "        vertical-align: top;\n",
       "    }\n",
       "\n",
       "    .dataframe thead th {\n",
       "        text-align: right;\n",
       "    }\n",
       "</style>\n",
       "<table border=\"1\" class=\"dataframe\">\n",
       "  <thead>\n",
       "    <tr style=\"text-align: right;\">\n",
       "      <th></th>\n",
       "      <th>Unnamed: 0</th>\n",
       "      <th>Unnamed: 1</th>\n",
       "      <th>Как часто вы пропускаете занятия:</th>\n",
       "    </tr>\n",
       "  </thead>\n",
       "  <tbody>\n",
       "    <tr>\n",
       "      <th>0</th>\n",
       "      <td>NaN</td>\n",
       "      <td>Пол</td>\n",
       "      <td>Практически</td>\n",
       "    </tr>\n",
       "    <tr>\n",
       "      <th>1</th>\n",
       "      <td>NaN</td>\n",
       "      <td>NaN</td>\n",
       "      <td>Редко Часто</td>\n",
       "    </tr>\n",
       "    <tr>\n",
       "      <th>2</th>\n",
       "      <td>NaN</td>\n",
       "      <td>NaN</td>\n",
       "      <td>никогда</td>\n",
       "    </tr>\n",
       "    <tr>\n",
       "      <th>3</th>\n",
       "      <td>Девушки</td>\n",
       "      <td>NaN</td>\n",
       "      <td>16 26 9</td>\n",
       "    </tr>\n",
       "    <tr>\n",
       "      <th>4</th>\n",
       "      <td>Юноши</td>\n",
       "      <td>NaN</td>\n",
       "      <td>22 35 14</td>\n",
       "    </tr>\n",
       "  </tbody>\n",
       "</table>\n",
       "</div>"
      ],
      "text/plain": [
       "  Unnamed: 0 Unnamed: 1 Как часто вы пропускаете занятия:\n",
       "0        NaN        Пол                       Практически\n",
       "1        NaN        NaN                       Редко Часто\n",
       "2        NaN        NaN                           никогда\n",
       "3    Девушки        NaN                           16 26 9\n",
       "4      Юноши        NaN                          22 35 14"
      ]
     },
     "execution_count": 324,
     "metadata": {},
     "output_type": "execute_result"
    }
   ],
   "source": [
    "task_4"
   ]
  },
  {
   "cell_type": "code",
   "execution_count": 325,
   "metadata": {},
   "outputs": [],
   "source": [
    "task_4 = [[16, 26, 9],[22, 35, 14]]"
   ]
  },
  {
   "cell_type": "code",
   "execution_count": 326,
   "metadata": {},
   "outputs": [],
   "source": [
    "chi2, p, dof, expected = stats.chi2_contingency(task_4)"
   ]
  },
  {
   "cell_type": "code",
   "execution_count": 327,
   "metadata": {},
   "outputs": [
    {
     "name": "stdout",
     "output_type": "stream",
     "text": [
      "Chi-Squared: 0.08581140903842771\n",
      "DoF: 2\n",
      "P-value: 0.958001721040942\n"
     ]
    }
   ],
   "source": [
    "# Значимой связи не наблюдается\n",
    "print(f\"Chi-Squared: {chi2}\\nDoF: {dof}\\nP-value: {p}\")"
   ]
  },
  {
   "cell_type": "markdown",
   "metadata": {},
   "source": [
    "# ЗАДАЧА_5\n",
    "В рамках исследования сравнивался уровень жизни в Москве и\n",
    "регионах. В частности, была поставлена задача выяснить, зависит ли\n",
    "материальное положение человека от типа населенного пункта, в котором он\n",
    "проживает. Была построена следующая таблица сопряженности:\n",
    "Можно ли утверждать, что указанная зависимость имеет место?"
   ]
  },
  {
   "cell_type": "code",
   "execution_count": 328,
   "metadata": {},
   "outputs": [],
   "source": [
    "task_5 = all_tabs_array[4]"
   ]
  },
  {
   "cell_type": "code",
   "execution_count": 329,
   "metadata": {},
   "outputs": [
    {
     "data": {
      "text/html": [
       "<div>\n",
       "<style scoped>\n",
       "    .dataframe tbody tr th:only-of-type {\n",
       "        vertical-align: middle;\n",
       "    }\n",
       "\n",
       "    .dataframe tbody tr th {\n",
       "        vertical-align: top;\n",
       "    }\n",
       "\n",
       "    .dataframe thead th {\n",
       "        text-align: right;\n",
       "    }\n",
       "</style>\n",
       "<table border=\"1\" class=\"dataframe\">\n",
       "  <thead>\n",
       "    <tr style=\"text-align: right;\">\n",
       "      <th></th>\n",
       "      <th>Unnamed: 0</th>\n",
       "      <th>Материальное положение:</th>\n",
       "    </tr>\n",
       "  </thead>\n",
       "  <tbody>\n",
       "    <tr>\n",
       "      <th>0</th>\n",
       "      <td>Тип населенного пункта</td>\n",
       "      <td>NaN</td>\n",
       "    </tr>\n",
       "    <tr>\n",
       "      <th>1</th>\n",
       "      <td>NaN</td>\n",
       "      <td>Хорошее Среднее Плохое</td>\n",
       "    </tr>\n",
       "    <tr>\n",
       "      <th>2</th>\n",
       "      <td>Москва и Санкт-Петербург</td>\n",
       "      <td>14 20 6</td>\n",
       "    </tr>\n",
       "    <tr>\n",
       "      <th>3</th>\n",
       "      <td>Города с численностью населения</td>\n",
       "      <td>NaN</td>\n",
       "    </tr>\n",
       "    <tr>\n",
       "      <th>4</th>\n",
       "      <td>NaN</td>\n",
       "      <td>10 23 8</td>\n",
       "    </tr>\n",
       "    <tr>\n",
       "      <th>5</th>\n",
       "      <td>более 1 млн. человек</td>\n",
       "      <td>NaN</td>\n",
       "    </tr>\n",
       "    <tr>\n",
       "      <th>6</th>\n",
       "      <td>Города с численностью населения от</td>\n",
       "      <td>NaN</td>\n",
       "    </tr>\n",
       "    <tr>\n",
       "      <th>7</th>\n",
       "      <td>NaN</td>\n",
       "      <td>7 18 12</td>\n",
       "    </tr>\n",
       "    <tr>\n",
       "      <th>8</th>\n",
       "      <td>100 тыс. до 1 млн. человек</td>\n",
       "      <td>NaN</td>\n",
       "    </tr>\n",
       "    <tr>\n",
       "      <th>9</th>\n",
       "      <td>Города с численностью населения от</td>\n",
       "      <td>NaN</td>\n",
       "    </tr>\n",
       "    <tr>\n",
       "      <th>10</th>\n",
       "      <td>NaN</td>\n",
       "      <td>3 8 10</td>\n",
       "    </tr>\n",
       "    <tr>\n",
       "      <th>11</th>\n",
       "      <td>10 тыс. до 100 тыс. человек</td>\n",
       "      <td>NaN</td>\n",
       "    </tr>\n",
       "    <tr>\n",
       "      <th>12</th>\n",
       "      <td>Города с численностью населения от</td>\n",
       "      <td>NaN</td>\n",
       "    </tr>\n",
       "    <tr>\n",
       "      <th>13</th>\n",
       "      <td>NaN</td>\n",
       "      <td>2 7 9</td>\n",
       "    </tr>\n",
       "    <tr>\n",
       "      <th>14</th>\n",
       "      <td>менее 10 тыс. человек</td>\n",
       "      <td>NaN</td>\n",
       "    </tr>\n",
       "  </tbody>\n",
       "</table>\n",
       "</div>"
      ],
      "text/plain": [
       "                            Unnamed: 0 Материальное положение:\n",
       "0               Тип населенного пункта                     NaN\n",
       "1                                  NaN  Хорошее Среднее Плохое\n",
       "2             Москва и Санкт-Петербург                 14 20 6\n",
       "3      Города с численностью населения                     NaN\n",
       "4                                  NaN                 10 23 8\n",
       "5                 более 1 млн. человек                     NaN\n",
       "6   Города с численностью населения от                     NaN\n",
       "7                                  NaN                 7 18 12\n",
       "8           100 тыс. до 1 млн. человек                     NaN\n",
       "9   Города с численностью населения от                     NaN\n",
       "10                                 NaN                  3 8 10\n",
       "11         10 тыс. до 100 тыс. человек                     NaN\n",
       "12  Города с численностью населения от                     NaN\n",
       "13                                 NaN                   2 7 9\n",
       "14               менее 10 тыс. человек                     NaN"
      ]
     },
     "execution_count": 329,
     "metadata": {},
     "output_type": "execute_result"
    }
   ],
   "source": [
    "task_5"
   ]
  },
  {
   "cell_type": "code",
   "execution_count": 330,
   "metadata": {},
   "outputs": [],
   "source": [
    "task_5 = task_5.iloc[[2, 4, 7, 10, 13]][\"Материальное положение:\"].str.split()\\\n",
    "    .apply(lambda x: list(map(int, x)))"
   ]
  },
  {
   "cell_type": "code",
   "execution_count": 331,
   "metadata": {},
   "outputs": [],
   "source": [
    "task_5 = np.array(list(task_5))"
   ]
  },
  {
   "cell_type": "code",
   "execution_count": 332,
   "metadata": {},
   "outputs": [],
   "source": [
    "chi2, p, dof, expected = stats.chi2_contingency(task_5)"
   ]
  },
  {
   "cell_type": "code",
   "execution_count": 333,
   "metadata": {},
   "outputs": [
    {
     "name": "stdout",
     "output_type": "stream",
     "text": [
      "Chi-Squared: 15.418725962957883\n",
      "DoF: 8\n",
      "P-value: 0.05149706831734659\n"
     ]
    }
   ],
   "source": [
    "print(f\"Chi-Squared: {chi2}\\nDoF: {dof}\\nP-value: {p}\")"
   ]
  },
  {
   "cell_type": "markdown",
   "metadata": {},
   "source": [
    "# ЗАДАЧА_6\n",
    "В развитых странах люди, имеющие хорошее образование,\n",
    "получают более высокий доход, чем те, у кого низкий уровень образования. В\n",
    "некоторой стране было проведено исследование с целью выяснить,\n",
    "выполняется ли это условие. Данные были сведены в таблицу сопряженности.\n",
    "Можно ли утверждать, что выполняется указанное выше условие?"
   ]
  },
  {
   "cell_type": "code",
   "execution_count": 334,
   "metadata": {},
   "outputs": [],
   "source": [
    "task_6 = all_tabs_array[5]"
   ]
  },
  {
   "cell_type": "code",
   "execution_count": 335,
   "metadata": {},
   "outputs": [
    {
     "data": {
      "text/html": [
       "<div>\n",
       "<style scoped>\n",
       "    .dataframe tbody tr th:only-of-type {\n",
       "        vertical-align: middle;\n",
       "    }\n",
       "\n",
       "    .dataframe tbody tr th {\n",
       "        vertical-align: top;\n",
       "    }\n",
       "\n",
       "    .dataframe thead th {\n",
       "        text-align: right;\n",
       "    }\n",
       "</style>\n",
       "<table border=\"1\" class=\"dataframe\">\n",
       "  <thead>\n",
       "    <tr style=\"text-align: right;\">\n",
       "      <th></th>\n",
       "      <th>Unnamed: 0</th>\n",
       "      <th>Unnamed: 1</th>\n",
       "      <th>Уровень дохода, у.е.</th>\n",
       "      <th>Unnamed: 2</th>\n",
       "    </tr>\n",
       "  </thead>\n",
       "  <tbody>\n",
       "    <tr>\n",
       "      <th>0</th>\n",
       "      <td>Образование</td>\n",
       "      <td>NaN</td>\n",
       "      <td>NaN</td>\n",
       "      <td>NaN</td>\n",
       "    </tr>\n",
       "    <tr>\n",
       "      <th>1</th>\n",
       "      <td>NaN</td>\n",
       "      <td>Менее 1000</td>\n",
       "      <td>1001 - 2000 2001 - 3000</td>\n",
       "      <td>более 3000</td>\n",
       "    </tr>\n",
       "    <tr>\n",
       "      <th>2</th>\n",
       "      <td>Среднее</td>\n",
       "      <td>11</td>\n",
       "      <td>12 5</td>\n",
       "      <td>1</td>\n",
       "    </tr>\n",
       "    <tr>\n",
       "      <th>3</th>\n",
       "      <td>Среднее</td>\n",
       "      <td>NaN</td>\n",
       "      <td>NaN</td>\n",
       "      <td>NaN</td>\n",
       "    </tr>\n",
       "    <tr>\n",
       "      <th>4</th>\n",
       "      <td>NaN</td>\n",
       "      <td>10</td>\n",
       "      <td>13 5</td>\n",
       "      <td>2</td>\n",
       "    </tr>\n",
       "    <tr>\n",
       "      <th>5</th>\n",
       "      <td>профессиональное</td>\n",
       "      <td>NaN</td>\n",
       "      <td>NaN</td>\n",
       "      <td>NaN</td>\n",
       "    </tr>\n",
       "    <tr>\n",
       "      <th>6</th>\n",
       "      <td>Высшее</td>\n",
       "      <td>6</td>\n",
       "      <td>14 11</td>\n",
       "      <td>7</td>\n",
       "    </tr>\n",
       "  </tbody>\n",
       "</table>\n",
       "</div>"
      ],
      "text/plain": [
       "         Unnamed: 0  Unnamed: 1     Уровень дохода, у.е.  Unnamed: 2\n",
       "0       Образование         NaN                      NaN         NaN\n",
       "1               NaN  Менее 1000  1001 - 2000 2001 - 3000  более 3000\n",
       "2           Среднее          11                     12 5           1\n",
       "3           Среднее         NaN                      NaN         NaN\n",
       "4               NaN          10                     13 5           2\n",
       "5  профессиональное         NaN                      NaN         NaN\n",
       "6            Высшее           6                    14 11           7"
      ]
     },
     "execution_count": 335,
     "metadata": {},
     "output_type": "execute_result"
    }
   ],
   "source": [
    "task_6"
   ]
  },
  {
   "cell_type": "code",
   "execution_count": 336,
   "metadata": {},
   "outputs": [],
   "source": [
    "task_6 = np.array([[11, 12, 5, 1], [10, 13, 5, 2], [6, 14, 11, 7]])"
   ]
  },
  {
   "cell_type": "code",
   "execution_count": 337,
   "metadata": {},
   "outputs": [],
   "source": [
    "chi2, p, dof, expected = stats.chi2_contingency(task_6)"
   ]
  },
  {
   "cell_type": "code",
   "execution_count": 338,
   "metadata": {},
   "outputs": [
    {
     "name": "stdout",
     "output_type": "stream",
     "text": [
      "Chi-Squared: 9.233328854605322\n",
      "DoF: 6\n",
      "P-value: 0.16087479470387223\n"
     ]
    }
   ],
   "source": [
    "print(f\"Chi-Squared: {chi2}\\nDoF: {dof}\\nP-value: {p}\")"
   ]
  }
 ],
 "metadata": {
  "interpreter": {
   "hash": "dba0c89f1930a7a242f904e0834561bd8b8cb13d2fdd6063d58403295e3fa4d0"
  },
  "kernelspec": {
   "display_name": "Python 3.8.10 64-bit ('data_science_env': venv)",
   "language": "python",
   "name": "python3"
  },
  "language_info": {
   "codemirror_mode": {
    "name": "ipython",
    "version": 3
   },
   "file_extension": ".py",
   "mimetype": "text/x-python",
   "name": "python",
   "nbconvert_exporter": "python",
   "pygments_lexer": "ipython3",
   "version": "3.8.10"
  },
  "orig_nbformat": 4
 },
 "nbformat": 4,
 "nbformat_minor": 2
}
